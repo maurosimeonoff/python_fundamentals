{
  "nbformat": 4,
  "nbformat_minor": 0,
  "metadata": {
    "colab": {
      "provenance": [],
      "authorship_tag": "ABX9TyNcxBMpfrjfpleVks1wtprk",
      "include_colab_link": true
    },
    "kernelspec": {
      "name": "python3",
      "display_name": "Python 3"
    },
    "language_info": {
      "name": "python"
    }
  },
  "cells": [
    {
      "cell_type": "markdown",
      "metadata": {
        "id": "view-in-github",
        "colab_type": "text"
      },
      "source": [
        "<a href=\"https://colab.research.google.com/github/maurosimeonoff/python_fundamentals/blob/main/Funci%C3%B3n_cuadr%C3%A1tica_utilizando_definiciones_de_funciones.ipynb\" target=\"_parent\"><img src=\"https://colab.research.google.com/assets/colab-badge.svg\" alt=\"Open In Colab\"/></a>"
      ]
    },
    {
      "cell_type": "markdown",
      "source": [
        "Función cuadrática utilizando definiciones de funciones\n",
        "Crea una función llamada \"cuadratica\" utilizando el comando \"def\" en la cual recibas como argumentos los parámetros reales de una función cuadrática: a, b y c.\n",
        "\n",
        "Dentro de la función, calcula los valores de x1 y x2 utilizando la fórmula cuadrática:\n",
        "x = (-b +/- (b^2 - 4ac)^0.5) / (2a)\n",
        "\n",
        "\n",
        "Considera los casos especiales en los que el discriminante (b² - 4ac) es negativo. Si es negativo, imprime un mensaje indicando que la respuesta cuenta con un valor imaginario.\n",
        "Ejemplo\n",
        "x1, x2 = cuadratica(1, 4, 4)\n",
        "El valor de x1 es -2\n",
        "El valor de x2 es -2\n",
        "\n",
        "x1, x2 = cuadratica(1, 2, 5)\n",
        "La respuesta cuenta con un valor imaginario"
      ],
      "metadata": {
        "id": "TMYpPhNYgdGA"
      }
    },
    {
      "cell_type": "code",
      "execution_count": 54,
      "metadata": {
        "colab": {
          "base_uri": "https://localhost:8080/"
        },
        "id": "vlvm0FfygZUD",
        "outputId": "e5547612-93ae-4a12-f513-84f1be11c054"
      },
      "outputs": [
        {
          "output_type": "stream",
          "name": "stdout",
          "text": [
            "Ingrese el coefiente a: 1\n",
            "Ingrese el coefiente b: 4\n",
            "Ingrese el coefiente c: 4\n",
            "Las raíces son:  -2.0 -2.0\n",
            "Ingrese 0 para finalizar el cálculo: 0\n",
            "Fin de cálculo.\n"
          ]
        }
      ],
      "source": [
        "from IPython.utils.text import string\n",
        "while True:\n",
        "\n",
        "  # Solicita al usuario los parámetros\n",
        "  a = float(input(\"Ingrese el coefiente a: \"))\n",
        "  b = float(input(\"Ingrese el coefiente b: \"))\n",
        "  c = float(input(\"Ingrese el coefiente c: \"))\n",
        "\n",
        "  # Calcula el argumento\n",
        "  argumento = b ** 2 - 4 * a * c\n",
        "\n",
        "   # Analiza que la raíz no tenga argumento negativo\n",
        "  if argumento < 0:\n",
        "     print (\"La respuesta cuenta con un valor imaginario.\")\n",
        "\n",
        "     # Evaluación de cierre o repetición\n",
        "     fin = int(input(\"Ingrese 0 para finalizar el cálculo: \"))\n",
        "     if fin == 0:\n",
        "      print(\"Fin de cálculo.\")\n",
        "      break;\n",
        "\n",
        "   # Cálculo de las dos raíces reales\n",
        "  else:\n",
        "\n",
        "    x2 = (-b - (b ** 2 - 4 * a * c) ** 0.5)/(2 * a)\n",
        "    print (\"Las raíces son: \", x1, x2)\n",
        "\n",
        "    # Evaluación de cierre o repetición\n",
        "    fin = int(input(\"Ingrese 0 para finalizar el cálculo: \"))\n",
        "    if fin == 0:\n",
        "      print(\"Fin de cálculo.\")\n",
        "      break;"
      ]
    },
    {
      "cell_type": "code",
      "source": [
        "# Ecuación cuadrática: \"Calcular los valores de x para los cuales la función es cero\"\n",
        "# x = (-b ± √(b^2 - 4ac)) / (2a)\n",
        "\n",
        "# Definimos la función “cuadratica”\n",
        "def cuadratica(a, b, c):\n",
        "\n",
        "# Calculamos el discriminante. Nos sirve para determinar el tipo de solución de una función cuadrática:\n",
        "# discriminante > 0 -> La función cuadrática tiene dos raíces reales distintas.\n",
        "# discriminante = 0 -> La función cuadrática tiene una raíz real doble.\n",
        "# discriminante < 0 -> La función cuadrática no tiene raíces reales, sino complejas o imaginarias\n",
        "  discriminante = b ** 2 - 4*a*c\n",
        "\n",
        "# Validamos el caso del discriminante < 0 y discriminante != 0\n",
        "  if discriminante < 0:\n",
        "    print(\"La respuesta cuenta con un valor imaginario\")\n",
        "    return False, False\n",
        "\n",
        "  else:\n",
        "    x1 = (-b + discriminante ** 0.5) / (2*a)\n",
        "    x2 = (-b + discriminante ** 0.5) / (2*a)\n",
        "    return x1, x2\n",
        "\n",
        "# Probamos la función\n",
        "# Caso 1: Respuesta con raíces reales\n",
        "x1, x2 = cuadratica(1, 4, 4)\n",
        "print(x1, x2)\n",
        "\n",
        "# Caso 2: Respuesta con raíces imaginarias\n",
        "x1, x2 = cuadratica(1, 2, 5)\n",
        "print(x1, x2)"
      ],
      "metadata": {
        "colab": {
          "base_uri": "https://localhost:8080/"
        },
        "id": "c8H_2sA5xM-5",
        "outputId": "1f3c99ca-41bb-4392-bcf8-fe0468e3b0c0"
      },
      "execution_count": 72,
      "outputs": [
        {
          "output_type": "stream",
          "name": "stdout",
          "text": [
            "-2.0 -2.0\n",
            "La respuesta cuenta con un valor imaginario\n",
            "False False\n"
          ]
        }
      ]
    }
  ]
}