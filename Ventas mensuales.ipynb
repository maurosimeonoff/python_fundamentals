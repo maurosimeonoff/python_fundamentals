{
  "cells": [
    {
      "cell_type": "code",
      "source": [
        "# Importar la librería\r\n",
        "import numpy as np\r\n",
        "# Crea una matriz bidimensional (array) llamada ventas_mensuales con una dimensión de 12 filas (representando los meses del año) y 4 columnas (representando los productos vendidos). Los valores de la matriz representarán las ventas mensuales de cada producto.\r\n",
        "ventas_mensuales = np.array([     [1200, 1500, 800, 2500],     [1800, 1600, 900, 2800],     [1500, 1400, 950, 2600],     [1300, 1700, 850, 2700],     [2000, 1800, 950, 2900],     [1700, 1600, 900, 2700],     [1400, 1300, 850, 2500],     [1600, 1400, 1000, 2600],     [1800, 1700, 950, 2900],     [1900, 1500, 850, 2800],     [1700, 1600, 900, 2600],     [2100, 1800, 1000, 3000] ])\r\n",
        "# Imprime la matriz ventas_mensuales para verificar su contenido\r\n",
        "print(ventas_mensuales)\r\n",
        "# Calcula el total de ventas por producto sumando los valores de cada columna utilizando la función sum de NumPy.\r\n",
        "total_ventas_productos = np.sum(ventas_mensuales, axis=0)\r\n",
        "# Imprime el total de ventas por producto\r\n",
        "print(total_ventas_productos)"
      ],
      "outputs": [
        {
          "output_type": "display_data",
          "data": {
            "application/vnd.livy.statement-meta+json": {
              "spark_pool": "SPK02",
              "session_id": "1",
              "statement_id": 4,
              "state": "finished",
              "livy_statement_state": "available",
              "queued_time": "2023-07-13T22:00:20.8443537Z",
              "session_start_time": "2023-07-13T22:00:20.9012797Z",
              "execution_start_time": "2023-07-13T22:00:21.0600725Z",
              "execution_finish_time": "2023-07-13T22:00:21.2736037Z",
              "spark_jobs": null,
              "parent_msg_id": "695ccc6c-ae21-4f1f-8067-393e79162a88"
            },
            "text/plain": "StatementMeta(SPK02, 1, 4, Finished, Available)"
          },
          "metadata": {}
        },
        {
          "output_type": "stream",
          "name": "stdout",
          "text": [
            "[[1200 1500  800 2500]\n [1800 1600  900 2800]\n [1500 1400  950 2600]\n [1300 1700  850 2700]\n [2000 1800  950 2900]\n [1700 1600  900 2700]\n [1400 1300  850 2500]\n [1600 1400 1000 2600]\n [1800 1700  950 2900]\n [1900 1500  850 2800]\n [1700 1600  900 2600]\n [2100 1800 1000 3000]]\n[20000 18900 10900 32600]\n"
          ]
        }
      ],
      "execution_count": 7,
      "metadata": {}
    }
  ],
  "metadata": {
    "language_info": {
      "name": "python"
    },
    "kernelspec": {
      "name": "synapse_pyspark",
      "language": "Python",
      "display_name": "Synapse PySpark"
    },
    "kernel_info": {
      "name": "synapse_pyspark"
    },
    "save_output": true,
    "synapse_widget": {
      "version": "0.1",
      "state": {}
    }
  },
  "nbformat": 4,
  "nbformat_minor": 2
}