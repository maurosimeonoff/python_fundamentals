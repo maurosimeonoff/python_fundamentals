{
  "cells": [
    {
      "cell_type": "code",
      "source": [
        "# Importar NumPy\r\n",
        "import numpy as np\r\n",
        "\r\n",
        "# Creación de una matriz bidimensional (array) llamada \"matriz_3x3\" con una dimensión de 3 filas y 3 columnas.\r\n",
        "# Los valores de la matriz deben ir de 0 a 8. Utilizar la función \"arange\" de NumPy para generar los valores de forma consecutiva.\r\n",
        "# Crear una matriz bidimensional 3x3\r\n",
        "matriz_3x3 = np.arange(9).reshape(3, 3)\r\n",
        "\r\n",
        "# Imprimir la matriz \"matriz_3x3\" para verificar su contenido.\r\n",
        "print(matriz_3x3)"
      ],
      "outputs": [],
      "execution_count": 5,
      "metadata": {
        "jupyter": {
          "source_hidden": false,
          "outputs_hidden": false
        },
        "nteract": {
          "transient": {
            "deleting": false
          }
        }
      }
    },
    {
      "cell_type": "code",
      "source": [
        "# Creación de una matriz identidad de 6x6 llamada \"matriz_identidad\" utilizando la función \"identity\".\r\n",
        "# Esta función creará una matriz cuadrada con unos en la diagonal principal y ceros en el resto de los elementos.\r\n",
        "# Crear una matriz identidad de 6x6\r\n",
        "matriz_identidad = np.identity(6)\r\n",
        "\r\n",
        "# Imprimir la matriz \"matriz_identidad\" para verificar su contenido.\r\n",
        "print(matriz_identidad)"
      ],
      "outputs": [],
      "execution_count": 6,
      "metadata": {
        "jupyter": {
          "source_hidden": false,
          "outputs_hidden": false
        },
        "nteract": {
          "transient": {
            "deleting": false
          }
        }
      }
    }
  ],
  "metadata": {
    "kernelspec": {
      "name": "synapse_pyspark",
      "display_name": "Synapse PySpark"
    },
    "language_info": {
      "name": "python"
    },
    "save_output": true,
    "synapse_widget": {
      "version": "0.1",
      "state": {}
    }
  },
  "nbformat": 4,
  "nbformat_minor": 2
}