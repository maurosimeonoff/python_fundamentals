{
  "cells": [
    {
      "cell_type": "code",
      "source": [
        "Mi_tupla = (\"Argentina\", 1, 3.14, True)\r\n",
        "print(Mi_tupla)\r\n",
        "type(Mi_tupla)"
      ],
      "outputs": [
        {
          "output_type": "display_data",
          "data": {
            "application/vnd.livy.statement-meta+json": {
              "spark_pool": null,
              "session_id": null,
              "statement_id": null,
              "state": "session_error",
              "livy_statement_state": null,
              "queued_time": "2023-07-11T21:09:26.6832768Z",
              "session_start_time": "2023-07-11T21:09:26.7518229Z",
              "execution_start_time": null,
              "execution_finish_time": null,
              "spark_jobs": null,
              "parent_msg_id": "8c1d0589-58b2-4228-acc1-fc64b6a23849"
            },
            "text/plain": "StatementMeta(, , , SessionError, )"
          },
          "metadata": {}
        },
        {
          "output_type": "error",
          "ename": "AVAILABLE_COMPUTE_CAPACITY_EXCEEDED",
          "evalue": "Livy session has failed. Session state: Error. Error code: AVAILABLE_COMPUTE_CAPACITY_EXCEEDED. Your job requested 12 vcores. However, the pool only has 0 vcores available out of quota of 12 vcores. Try ending the running job(s) in the pool, reducing the numbers of vcores requested, increasing the pool maximum size or using another pool. Source: User.",
          "traceback": [
            "AVAILABLE_COMPUTE_CAPACITY_EXCEEDED: Livy session has failed. Session state: Error. Error code: AVAILABLE_COMPUTE_CAPACITY_EXCEEDED. Your job requested 12 vcores. However, the pool only has 0 vcores available out of quota of 12 vcores. Try ending the running job(s) in the pool, reducing the numbers of vcores requested, increasing the pool maximum size or using another pool. Source: User."
          ]
        }
      ],
      "execution_count": 6,
      "metadata": {
        "jupyter": {
          "source_hidden": false,
          "outputs_hidden": false
        },
        "nteract": {
          "transient": {
            "deleting": false
          }
        }
      }
    },
    {
      "cell_type": "code",
      "source": [
        "Mi_lista = list(Mi_tupla)\r\n",
        "print(Mi_lista)\r\n",
        "type(Mi_lista)"
      ],
      "outputs": [
        {
          "output_type": "display_data",
          "data": {
            "application/vnd.livy.statement-meta+json": {
              "spark_pool": null,
              "session_id": null,
              "statement_id": null,
              "state": "cancelled",
              "livy_statement_state": null,
              "queued_time": "2023-07-11T21:09:28.7182846Z",
              "session_start_time": null,
              "execution_start_time": null,
              "execution_finish_time": "2023-07-11T21:09:36.9912065Z",
              "spark_jobs": null,
              "parent_msg_id": "3298b1c4-0e15-4e0b-a8df-4e663c461c00"
            },
            "text/plain": "StatementMeta(, , , Cancelled, )"
          },
          "metadata": {}
        }
      ],
      "execution_count": null,
      "metadata": {
        "jupyter": {
          "source_hidden": false,
          "outputs_hidden": false
        },
        "nteract": {
          "transient": {
            "deleting": false
          }
        }
      }
    },
    {
      "cell_type": "code",
      "source": [
        "Mi_diccionario = {}\r\n",
        "for i in range(len(Mi_lista)):\r\n",
        "    Mi_diccionario[i+1] = Mi_lista[i]\r\n",
        "print(Mi_diccionario)\r\n",
        "type(Mi_diccionario)"
      ],
      "outputs": [
        {
          "output_type": "display_data",
          "data": {
            "application/vnd.livy.statement-meta+json": {
              "spark_pool": null,
              "session_id": null,
              "statement_id": null,
              "state": "cancelled",
              "livy_statement_state": null,
              "queued_time": "2023-07-11T21:09:31.054885Z",
              "session_start_time": null,
              "execution_start_time": null,
              "execution_finish_time": "2023-07-11T21:09:36.9916849Z",
              "spark_jobs": null,
              "parent_msg_id": "95b66074-135d-4d6c-bb9f-9fbf7df5c9a9"
            },
            "text/plain": "StatementMeta(, , , Cancelled, )"
          },
          "metadata": {}
        }
      ],
      "execution_count": null,
      "metadata": {
        "jupyter": {
          "source_hidden": false,
          "outputs_hidden": false
        },
        "nteract": {
          "transient": {
            "deleting": false
          }
        }
      }
    }
  ],
  "metadata": {
    "kernelspec": {
      "name": "synapse_pyspark",
      "language": "Python",
      "display_name": "Synapse PySpark"
    },
    "language_info": {
      "name": "python"
    },
    "kernel_info": {
      "name": "synapse_pyspark"
    },
    "save_output": true,
    "synapse_widget": {
      "version": "0.1",
      "state": {}
    }
  },
  "nbformat": 4,
  "nbformat_minor": 2
}