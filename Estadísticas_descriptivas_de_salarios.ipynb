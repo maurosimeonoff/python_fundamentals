{
  "cells": [
    {
      "cell_type": "markdown",
      "metadata": {
        "id": "view-in-github",
        "colab_type": "text"
      },
      "source": [
        "<a href=\"https://colab.research.google.com/github/maurosimeonoff/python_fundamentals/blob/main/Estad%C3%ADsticas_descriptivas_de_salarios.ipynb\" target=\"_parent\"><img src=\"https://colab.research.google.com/assets/colab-badge.svg\" alt=\"Open In Colab\"/></a>"
      ]
    },
    {
      "cell_type": "code",
      "source": [
        "# Importanr pandas con el pseudónimo pd (por convencion se usa este)\n",
        "import pandas as pd\n",
        "\n",
        "# Declarar un diccionario proporcionado para hacer la actividad\n",
        "salarios={\n",
        "    \"Nombre\":[\"Ringo\",\"John\",\"Paul\",\"George\",\"Yoko\"],\n",
        "    \"Edad\":[45,34,42,38,47],\n",
        "    \"Salario\":[12000,14000,13000,11000,10000],\n",
        "    \"Genero\":[\"M\",\"M\",\"M\",\"M\",\"F\"]\n",
        "}\n",
        "\n",
        "# Usar el método .DataFrame de pandas para crear un DataFrame con base en el diccionario\n",
        "# Dataframe: estructura de datos rectangular (variables en las columnas y las observaciones en las filas).\n",
        "df = pd.DataFrame(salarios)\n",
        "\n",
        "# Imprimir las primeras 5 filas del data frame con el método .head() para verlo\n",
        "print(df.head())\n",
        "\n",
        "# Extraer la columna “Salario” del df usando los [ ]\n",
        "col_salario = df[\"Salario\"]\n",
        "\n",
        "# Encontrar el rango, restando el mínimo al máximo, usando .min() y .max()\n",
        "rango = col_salario.max() - col_salario.min()\n",
        "print(f\"El rango es {rango}\")\n"
      ],
      "metadata": {
        "id": "Q-MSi3I_Ncdg",
        "colab": {
          "base_uri": "https://localhost:8080/"
        },
        "outputId": "cc2cc1d8-d9a3-4797-afe3-03c6cbe77bfb"
      },
      "execution_count": 4,
      "outputs": [
        {
          "output_type": "stream",
          "name": "stdout",
          "text": [
            "   Nombre  Edad  Salario Genero\n",
            "0   Ringo    45    12000      M\n",
            "1    John    34    14000      M\n",
            "2    Paul    42    13000      M\n",
            "3  George    38    11000      M\n",
            "4    Yoko    47    10000      F\n",
            "El rango es 4000\n"
          ]
        }
      ]
    },
    {
      "cell_type": "markdown",
      "metadata": {
        "id": "sQas21UgElXG"
      },
      "source": [
        "Parte 2\n",
        "\n",
        "1.- Obtener los estadísticos descriptivos de los salarios. (media, mediana, desviación estándar, etc.)\n",
        "\n",
        "2.- Imprime los resultados de una manera sencilla de leer para el usuario.\n"
      ]
    },
    {
      "cell_type": "code",
      "source": [
        "# Encontrar las estadísticas descriptivas de la columna usando los métodos .mean(), .median() o .std(), pero una forma más eficiente de hacerlo, es utilizando el método .describe() de pandas\n",
        "print(col_salario.describe())\n"
      ],
      "metadata": {
        "colab": {
          "base_uri": "https://localhost:8080/"
        },
        "id": "PUXpcOjsuLOe",
        "outputId": "85387ad6-02d8-41db-c38c-c0f9db8e3478"
      },
      "execution_count": 5,
      "outputs": [
        {
          "output_type": "stream",
          "name": "stdout",
          "text": [
            "count        5.00000\n",
            "mean     12000.00000\n",
            "std       1581.13883\n",
            "min      10000.00000\n",
            "25%      11000.00000\n",
            "50%      12000.00000\n",
            "75%      13000.00000\n",
            "max      14000.00000\n",
            "Name: Salario, dtype: float64\n"
          ]
        }
      ]
    }
  ],
  "metadata": {
    "colab": {
      "provenance": [],
      "toc_visible": true,
      "authorship_tag": "ABX9TyNWMa0jLJ6GdZDws6ksGas+",
      "include_colab_link": true
    },
    "kernelspec": {
      "display_name": "Python 3",
      "name": "python3"
    },
    "language_info": {
      "name": "python"
    }
  },
  "nbformat": 4,
  "nbformat_minor": 0
}