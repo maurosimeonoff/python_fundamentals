{
  "nbformat": 4,
  "nbformat_minor": 0,
  "metadata": {
    "colab": {
      "provenance": [],
      "authorship_tag": "ABX9TyPZ2AGVTjxwHkYeayN6emR7",
      "include_colab_link": true
    },
    "kernelspec": {
      "name": "python3",
      "display_name": "Python 3"
    },
    "language_info": {
      "name": "python"
    }
  },
  "cells": [
    {
      "cell_type": "markdown",
      "metadata": {
        "id": "view-in-github",
        "colab_type": "text"
      },
      "source": [
        "<a href=\"https://colab.research.google.com/github/maurosimeonoff/python_fundamentals/blob/main/Creaci%C3%B3n_de_Calculadora_con_POO.ipynb\" target=\"_parent\"><img src=\"https://colab.research.google.com/assets/colab-badge.svg\" alt=\"Open In Colab\"/></a>"
      ]
    },
    {
      "cell_type": "markdown",
      "source": [],
      "metadata": {
        "id": "_JYHYTjNJnZU"
      }
    },
    {
      "cell_type": "markdown",
      "source": [
        "Actividad Creación de Calculadora con POO\n",
        "\n",
        "Parte 1\n",
        "\n",
        "Utilizando la Programación Orientada a Objetos, realiza lo siguiente:\n",
        "\n",
        "Crea un objeto (una clase) llamado Calculadora con al menos 4 operaciones básicas (sumar, restar, dividir y multiplicar).\n",
        "El programa debe pedirle al usuario que ingrese dos valores, con los cuales la calculadora hará las 4 operaciones definidas anteriormente.\n",
        "Es importante recordar que al momento de hacer una división, el denominador no puede ser igual a 0, por lo que en caso de que el usuario ingrese dicho valor, el programa debe imprimir que la respuesta de la operación de división con dicho valor ingresado es indefinido."
      ],
      "metadata": {
        "id": "TQJ6pTpVJpPt"
      }
    },
    {
      "cell_type": "code",
      "source": [
        "# Creación de la clase\n",
        "class Calculadora:\n",
        "\n",
        "# Inicio de los valores a trabajar\n",
        "  def __init__(self, valor_1, valor_2):\n",
        "    self.valor_1 = valor_1\n",
        "    self.valor_2 = valor_2\n",
        "\n",
        "# Definición del método para sumar\n",
        "  def suma(self):\n",
        "    return self.valor_1 + self.valor_2\n",
        "\n",
        "# Definición del método para restar\n",
        "  def resta(self):\n",
        "    return self.valor_1 - self.valor_2\n",
        "\n",
        "# Defininicón del método para multiplicar\n",
        "  def multiplicacion(self):\n",
        "    return self.valor_1 * self.valor_2\n",
        "\n",
        "# Definición del método para dividir\n",
        "  def division(self):\n",
        "# Si el valor de valor_2, que será el denominador es diferente que 0, se puede realizar la división, sino el resultado será indefinido\n",
        "# Usar != Significa lo mismo que “Diferente que”\n",
        "    if self.valor_2 != 0:\n",
        "      return self.valor_1 / self.valor_2\n",
        "    else:\n",
        "      return \"El resultado de esta división es indefinido\"\n",
        "\n",
        "# Permitir al usuario ingresar los valores a evaluar\n",
        "print(\"Ingresá los números a evaluar\")\n",
        "valor_1 = float(input(\"Ingresá el primer número: \"))\n",
        "valor_2 = float(input(\"Ingresá el segundo número: \"))\n",
        "\n",
        "# Procesar los valores ingresados en la clase\n",
        "calcular = Calculadora(valor_1, valor_2)\n",
        "\n",
        "# Usar los métodos creados para obtener los resultados\n",
        "print(\"La suma de los valores es: \", calcular.suma())\n",
        "print(\"La resta de los valores es: \", calcular.resta())\n",
        "print(\"La multiplicación de los valores es: \", calcular.multiplicacion())\n",
        "print(\"La división de los valores es: \", calcular.division())"
      ],
      "metadata": {
        "id": "9xk-X0j-JtE2",
        "colab": {
          "base_uri": "https://localhost:8080/"
        },
        "outputId": "bdc7c2c1-2e0b-4205-c10c-3299d681cdf6"
      },
      "execution_count": 14,
      "outputs": [
        {
          "output_type": "stream",
          "name": "stdout",
          "text": [
            "Ingresá los números a evaluar\n",
            "Ingresá el primer número: 4\n",
            "Ingresá el segundo número: 0\n",
            "La suma de los valores es:  4.0\n",
            "La resta de los valores es:  4.0\n",
            "La multiplicación de los valores es:  0.0\n",
            "La división de los valores es:  El resultado de esta división es indefinido\n"
          ]
        }
      ]
    },
    {
      "cell_type": "code",
      "source": [],
      "metadata": {
        "id": "oKhKTXkJeLdn"
      },
      "execution_count": null,
      "outputs": []
    }
  ]
}