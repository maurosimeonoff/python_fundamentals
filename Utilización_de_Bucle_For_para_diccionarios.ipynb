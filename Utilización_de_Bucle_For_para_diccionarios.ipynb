{
  "nbformat": 4,
  "nbformat_minor": 0,
  "metadata": {
    "colab": {
      "provenance": [],
      "authorship_tag": "ABX9TyO/wbcTYdsGa903af0gxcmJ",
      "include_colab_link": true
    },
    "kernelspec": {
      "name": "python3",
      "display_name": "Python 3"
    },
    "language_info": {
      "name": "python"
    }
  },
  "cells": [
    {
      "cell_type": "markdown",
      "metadata": {
        "id": "view-in-github",
        "colab_type": "text"
      },
      "source": [
        "<a href=\"https://colab.research.google.com/github/maurosimeonoff/python_fundamentals/blob/main/Utilizaci%C3%B3n_de_Bucle_For_para_diccionarios.ipynb\" target=\"_parent\"><img src=\"https://colab.research.google.com/assets/colab-badge.svg\" alt=\"Open In Colab\"/></a>"
      ]
    },
    {
      "cell_type": "markdown",
      "source": [
        "Actividad: Utilización de Bucle For para diccionarios\n",
        "\n",
        "Parte 1\n",
        "\n",
        "1.- Crea un diccionario en donde definas al menos 5 personas con un número cada uno.\n",
        "\n",
        "2.- Luego utilizando un bucle for imprime los valores del diccionario (nombre de la persona y número que dijo)\n",
        "\n",
        "Parte 2\n",
        "\n",
        "1.- Imprime dos mensajes, mostrando el número más grande, y el número más pequeño del diccionario. (Sin el nombre del socio, sólo el número)"
      ],
      "metadata": {
        "id": "xg5k5HUZw1b2"
      }
    },
    {
      "cell_type": "code",
      "execution_count": 5,
      "metadata": {
        "colab": {
          "base_uri": "https://localhost:8080/"
        },
        "id": "VO3P0i_twx7G",
        "outputId": "c8d6d18b-0def-420f-8b61-35dc3e1833bf"
      },
      "outputs": [
        {
          "output_type": "stream",
          "name": "stdout",
          "text": [
            "Nombre: Juan\n",
            "Numero: 5\n",
            "Nombre: Pepe\n",
            "Numero: 20\n",
            "Nombre: Adela\n",
            "Numero: 1\n",
            "Nombre: Marta\n",
            "Numero: 200\n",
            "Nombre: Eduardo\n",
            "Numero: 3\n"
          ]
        }
      ],
      "source": [
        "#Parte 1\n",
        "\n",
        "# Creación del diccionario base, con los nombres de las personas y un número asignado a cada uno\n",
        "diccionario_base = { \"Juan\" : 5, \"Pepe\" : 20,  \"Adela\" : 1, \"Marta\" : 200, \"Eduardo\" : 3}\n",
        "\n",
        "# Uso de un bucle for para imprimir el nombre y el número de cada persona\n",
        "for i in diccionario_base:\n",
        "  nombre = i\n",
        "  print(f\"Nombre: {nombre}\")\n",
        "  numero = diccionario_base[i]\n",
        "  print(f\"Numero: {numero}\")"
      ]
    },
    {
      "cell_type": "code",
      "source": [
        "# Parte 2\n",
        "\n",
        "# Encontrar los números más grandes y pequeños para poder imprimirlos\n",
        "\n",
        "# Extraer los valores que se encuentran en nuestro diccionario\n",
        "valores = diccionario_base.values()\n",
        "\n",
        "# Usar las funciones max y min para determinar el número más grande y el más pequeño\n",
        "minimo = min(valores)\n",
        "maximo = max(valores)\n",
        "\n",
        "# Imprimir los valores\n",
        "print(f\"El valor más pequeño de la lista es: {minimo}\")\n",
        "print(f\"El valor más grande de la lista es: {maximo}\")"
      ],
      "metadata": {
        "colab": {
          "base_uri": "https://localhost:8080/"
        },
        "id": "ojkK_dGSyMPV",
        "outputId": "94026dc8-ab05-43d0-b57c-6ba04fdfe8af"
      },
      "execution_count": 7,
      "outputs": [
        {
          "output_type": "stream",
          "name": "stdout",
          "text": [
            "El valor más pequeño de la lista es: 1\n",
            "El valor más grande de la lista es: 200\n"
          ]
        }
      ]
    },
    {
      "cell_type": "code",
      "source": [
        "# Parte 2 (alternativa)\n",
        "\n",
        "# Encontrar los números más grandes y pequeños para poder imprimirlos\n",
        "\n",
        "# Extraer los valores que se encuentran en nuestro diccionario\n",
        "valores = diccionario_base.values()\n",
        "\n",
        "# Otra forma de llegar al número más grande y el más pequeño podría ser la siguiente\n",
        "menor = min(diccionario_base.values())\n",
        "mayor = max(diccionario_base.values())\n",
        "\n",
        "# Imprimir los valores\n",
        "print(f\"El valor más pequeño de la lista es: {menor}\")\n",
        "print(f\"El valor más grande de la lista es: {mayor}\")"
      ],
      "metadata": {
        "colab": {
          "base_uri": "https://localhost:8080/"
        },
        "id": "ReRM6j3azPfe",
        "outputId": "86335900-0076-403e-816b-b345867202be"
      },
      "execution_count": 12,
      "outputs": [
        {
          "output_type": "stream",
          "name": "stdout",
          "text": [
            "El valor más pequeño de la lista es: 1\n",
            "El valor más grande de la lista es: 200\n"
          ]
        }
      ]
    }
  ]
}