{
  "cells": [
    {
      "cell_type": "code",
      "source": [
        "print(\"Mi nombre es Mauro Simeonoff.\")\r\n",
        "print(\"Frase: El interés compuesto es la fuerza más poderosa del universo.\")"
      ],
      "outputs": [
        {
          "output_type": "display_data",
          "data": {
            "application/vnd.livy.statement-meta+json": {
              "spark_pool": "SPKSmallCAPlab1",
              "session_id": "24",
              "statement_id": 11,
              "state": "finished",
              "livy_statement_state": "available",
              "queued_time": "2023-07-11T15:56:04.611369Z",
              "session_start_time": null,
              "execution_start_time": "2023-07-11T15:56:04.7484112Z",
              "execution_finish_time": "2023-07-11T15:56:04.9105952Z",
              "spark_jobs": null,
              "parent_msg_id": "d917a542-f164-4a4d-a292-afbd5769466d"
            },
            "text/plain": "StatementMeta(SPKSmallCAPlab1, 24, 11, Finished, Available)"
          },
          "metadata": {}
        },
        {
          "output_type": "stream",
          "name": "stdout",
          "text": [
            "Mi nombre es Mauro Simeonoff.\nFrase: El interés compuesto es la fuerza más poderosa del universo.\n"
          ]
        }
      ],
      "execution_count": 7,
      "metadata": {}
    },
    {
      "cell_type": "code",
      "source": [
        "a = \"Hola Mundo!\"\r\n",
        "print(a)"
      ],
      "outputs": [
        {
          "output_type": "display_data",
          "data": {
            "application/vnd.livy.statement-meta+json": {
              "spark_pool": "SPKSmallCAPlab1",
              "session_id": "24",
              "statement_id": 12,
              "state": "finished",
              "livy_statement_state": "available",
              "queued_time": "2023-07-11T16:23:42.3416642Z",
              "session_start_time": null,
              "execution_start_time": "2023-07-11T16:23:42.4972302Z",
              "execution_finish_time": "2023-07-11T16:23:42.6673896Z",
              "spark_jobs": null,
              "parent_msg_id": "7befd97a-4919-4cc7-95bc-396355c1bd41"
            },
            "text/plain": "StatementMeta(SPKSmallCAPlab1, 24, 12, Finished, Available)"
          },
          "metadata": {}
        },
        {
          "output_type": "stream",
          "name": "stdout",
          "text": [
            "Hola Mundo!\n"
          ]
        }
      ],
      "execution_count": 8,
      "metadata": {
        "jupyter": {
          "source_hidden": false,
          "outputs_hidden": false
        },
        "nteract": {
          "transient": {
            "deleting": false
          }
        }
      }
    },
    {
      "cell_type": "code",
      "source": [],
      "outputs": [],
      "execution_count": null,
      "metadata": {
        "jupyter": {
          "source_hidden": false,
          "outputs_hidden": false
        },
        "nteract": {
          "transient": {
            "deleting": false
          }
        }
      }
    }
  ],
  "metadata": {
    "language_info": {
      "name": "python"
    },
    "kernelspec": {
      "name": "synapse_pyspark",
      "language": "Python",
      "display_name": "Synapse PySpark"
    },
    "kernel_info": {
      "name": "synapse_pyspark"
    },
    "save_output": true,
    "synapse_widget": {
      "version": "0.1",
      "state": {}
    }
  },
  "nbformat": 4,
  "nbformat_minor": 2
}