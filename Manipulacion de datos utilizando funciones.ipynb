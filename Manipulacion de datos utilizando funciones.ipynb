{
  "nbformat": 4,
  "nbformat_minor": 0,
  "metadata": {
    "colab": {
      "provenance": [],
      "toc_visible": true
    },
    "kernelspec": {
      "name": "python3",
      "display_name": "Python 3"
    },
    "language_info": {
      "name": "python"
    }
  },
  "cells": [
    {
      "cell_type": "code",
      "execution_count": 4,
      "metadata": {
        "colab": {
          "base_uri": "https://localhost:8080/"
        },
        "id": "9jodYr-fittM",
        "outputId": "90d561a4-4828-4a0b-fe6f-75474c9aa5a8"
      },
      "outputs": [
        {
          "name": "stdout",
          "output_type": "stream",
          "text": [
            "Ingrese el monto de la compra: 0\n"
          ]
        }
      ],
      "source": [
        "# Recibir datos del usuario hasta una condición de paro\n",
        "total = 0\n",
        "while True:\n",
        "    # Cambiar el tipo de dato string a float.\n",
        "    monto = float(input(\"Ingrese el monto de la compra: \"))\n",
        "\n",
        "    # Condición de paro si el valor es igual a 0\n",
        "    if monto == 0:\n",
        "      # Detener el ciclo\n",
        "      break;\n",
        "\n",
        "      # Si el monto es menor a 0 se debe recibir un nuevo valor\n",
        "    if monto < 0:\n",
        "      print(\"El valor ingresado no es valido. \")\n",
        "      # Terminar este ciclo y continuar al siguiente.\n",
        "      continue;\n",
        "\n",
        "    # Sumar el monto al total\n",
        "    total += monto\n",
        "\n",
        "    # Si el total es mayor de 1000 hacemos un descuento del 10%\n",
        "    if total > 1000:\n",
        "      total *= 0.9\n",
        "\n",
        "    print(\"Total a pagar: \", total)"
      ]
    },
    {
      "cell_type": "code",
      "source": [
        "# Recibir datos del usuario hasta una condición de paro\n",
        "minutos = 0\n",
        "costo = 0\n",
        "\n",
        "while True:\n",
        "  #Indicación\n",
        "  minutos = int(input(\"Ingresa el tiempo acumulado en minutos: \"))\n",
        "\n",
        "  #Si es 0 minutos, no se cobra.\n",
        "  if minutos == 0:\n",
        "    print(\"No hay costo.\")\n",
        "    break;\n",
        "\n",
        "  #Solo minutos positivos\n",
        "  if minutos < 0:\n",
        "    print(\"El valor ingresado no es válido.\")\n",
        "    continue;\n",
        "\n",
        "  #Caso 1, si se debe cobrar extra + variable + fijo\n",
        "  if minutos > 480:\n",
        "    costo = 25 + (15*((minutos - 60 )/60)) + 200\n",
        "\n",
        "  #Caso 2, si se debe cobrar variable + fijo\n",
        "  elif minutos > 60:\n",
        "    costo = 25 + (15*((minutos - 60 )/60))\n",
        "\n",
        "  #Caso 3, si se debe cobrar fijo\n",
        "  elif minutos > 0:\n",
        "    costo = 25\n",
        "\n",
        "  else:\n",
        "    costo = 0\n",
        "  print(\"Total a pagar \", costo)"
      ],
      "metadata": {
        "colab": {
          "base_uri": "https://localhost:8080/"
        },
        "id": "jbPG9_QkjPFB",
        "outputId": "1f4a9731-28f1-43f5-8a84-a5c8391122ad"
      },
      "execution_count": 5,
      "outputs": [
        {
          "output_type": "stream",
          "name": "stdout",
          "text": [
            "Ingresa el tiempo acumulado en minutos: 540\n",
            "Total a pagar  345.0\n",
            "Ingresa el tiempo acumulado en minutos: 0\n",
            "No hay costo.\n"
          ]
        }
      ]
    }
  ]
}