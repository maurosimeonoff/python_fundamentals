{
  "cells": [
    {
      "cell_type": "markdown",
      "metadata": {
        "id": "view-in-github",
        "colab_type": "text"
      },
      "source": [
        "<a href=\"https://colab.research.google.com/github/maurosimeonoff/python_fundamentals/blob/main/Sesi%C3%B3n_de_pandas.ipynb\" target=\"_parent\"><img src=\"https://colab.research.google.com/assets/colab-badge.svg\" alt=\"Open In Colab\"/></a>"
      ]
    },
    {
      "cell_type": "markdown",
      "source": [
        "Parte 1\n",
        "\n",
        "- Importar la librería de pandas en tu script de Python.\n",
        "- Utiliza pandas para leer el archivo CSV proporcionado y asignarlo a una variable. Por ejemplo, podríamos llamar a esta variable datos_atletas.\n",
        "- Filtrar los datos para incluir solo a los atletas que hayan recibido una medalla (oro, plata o bronce). Puedes hacer esto usando la función .dropna() en la columna de las medallas, o filtra usando .notnull()\n",
        "- Para encontrar al atleta más veterano que ha recibido medalla, puedes usar la función .idxmax() en la columna 'Age' y luego usar este índice para localizar los datos completos del atleta.\n",
        "- Para encontrar al atleta más joven que ha recibido una medalla de oro, primero filtra los datos para incluir solo a los atletas que hayan recibido una medalla de oro. Luego, usa el mismo método que en el paso 4 para encontrar al atleta más joven.\n",
        "- Para encontrar al atleta más condecorado de la historia, puedes utilizar la función .value_counts() en la columna 'Name' para contar cuántas veces aparece cada nombre (lo que indica cuántas medallas ha ganado). Luego, puedes utilizar la función .idxmax() para encontrar el nombre del atleta que aparece más veces.\n",
        "- Finalmente, extrae todos los registros de este atleta y crea un nuevo CSV con su información usando la función .to_csv()."
      ],
      "metadata": {
        "id": "locX9z_x31f6"
      }
    },
    {
      "cell_type": "code",
      "source": [
        "# Importar pandas como pd\n",
        "import pandas as pd\n",
        "\n",
        "# Leer el archivo de trabajo --> Esto mostrará los 5 primeros registros de a tramos delimintados por \"/\"\n",
        "# Para que el código pueda leer el archivo, primero hay que cargarlo en Colab, yendo a Archivos/Cargar archivos en almacenamiento de sesión (temporal)\n",
        "df = pd.read_csv(\"/athlete_events.csv\")\n",
        "print(df.head())"
      ],
      "metadata": {
        "id": "Q-MSi3I_Ncdg",
        "colab": {
          "base_uri": "https://localhost:8080/"
        },
        "outputId": "575c2aad-a352-4708-cc40-2e6d4a6509a1"
      },
      "execution_count": 65,
      "outputs": [
        {
          "output_type": "stream",
          "name": "stdout",
          "text": [
            "   ID                      Name Sex   Age  Height  Weight            Team  \\\n",
            "0   1                 A Dijiang   M  24.0   180.0    80.0           China   \n",
            "1   2                  A Lamusi   M  23.0   170.0    60.0           China   \n",
            "2   3       Gunnar Nielsen Aaby   M  24.0     NaN     NaN         Denmark   \n",
            "3   4      Edgar Lindenau Aabye   M  34.0     NaN     NaN  Denmark/Sweden   \n",
            "4   5  Christine Jacoba Aaftink   F  21.0   185.0    82.0     Netherlands   \n",
            "\n",
            "   NOC        Games  Year  Season       City          Sport  \\\n",
            "0  CHN  1992 Summer  1992  Summer  Barcelona     Basketball   \n",
            "1  CHN  2012 Summer  2012  Summer     London           Judo   \n",
            "2  DEN  1920 Summer  1920  Summer  Antwerpen       Football   \n",
            "3  DEN  1900 Summer  1900  Summer      Paris     Tug-Of-War   \n",
            "4  NED  1988 Winter  1988  Winter    Calgary  Speed Skating   \n",
            "\n",
            "                              Event Medal  \n",
            "0       Basketball Men's Basketball   NaN  \n",
            "1      Judo Men's Extra-Lightweight   NaN  \n",
            "2           Football Men's Football   NaN  \n",
            "3       Tug-Of-War Men's Tug-Of-War  Gold  \n",
            "4  Speed Skating Women's 500 metres   NaN  \n"
          ]
        }
      ]
    },
    {
      "cell_type": "code",
      "source": [
        "# Como se ve, hay algunos valores que se encuentran NaN en la columna de medallas, así que habrá que quitarlos (hay NA en las variables Age, Height, Weight y Medal) Solo muestra los primeros 5 casos\n",
        "# NaN significa Not a Number.\n",
        "df_not_nan = df[df.Medal.notnull()]\n",
        "print(df_not_nan.head())"
      ],
      "metadata": {
        "colab": {
          "base_uri": "https://localhost:8080/"
        },
        "id": "n2p1d7LqkYkC",
        "outputId": "859dc5fc-ee1e-4540-ed35-0522e43711e1"
      },
      "execution_count": 19,
      "outputs": [
        {
          "output_type": "stream",
          "name": "stdout",
          "text": [
            "    ID                      Name Sex   Age  Height  Weight            Team  \\\n",
            "3    4      Edgar Lindenau Aabye   M  34.0     NaN     NaN  Denmark/Sweden   \n",
            "37  15      Arvo Ossian Aaltonen   M  30.0     NaN     NaN         Finland   \n",
            "38  15      Arvo Ossian Aaltonen   M  30.0     NaN     NaN         Finland   \n",
            "40  16  Juhamatti Tapio Aaltonen   M  28.0   184.0    85.0         Finland   \n",
            "41  17   Paavo Johannes Aaltonen   M  28.0   175.0    64.0         Finland   \n",
            "\n",
            "    NOC        Games  Year  Season       City       Sport  \\\n",
            "3   DEN  1900 Summer  1900  Summer      Paris  Tug-Of-War   \n",
            "37  FIN  1920 Summer  1920  Summer  Antwerpen    Swimming   \n",
            "38  FIN  1920 Summer  1920  Summer  Antwerpen    Swimming   \n",
            "40  FIN  2014 Winter  2014  Winter      Sochi  Ice Hockey   \n",
            "41  FIN  1948 Summer  1948  Summer     London  Gymnastics   \n",
            "\n",
            "                                     Event   Medal  \n",
            "3              Tug-Of-War Men's Tug-Of-War    Gold  \n",
            "37  Swimming Men's 200 metres Breaststroke  Bronze  \n",
            "38  Swimming Men's 400 metres Breaststroke  Bronze  \n",
            "40             Ice Hockey Men's Ice Hockey  Bronze  \n",
            "41  Gymnastics Men's Individual All-Around  Bronze  \n"
          ]
        }
      ]
    },
    {
      "cell_type": "code",
      "source": [
        "# Una vez limpia la columna de medallas, hay que encontrar a aquel que tiene la edad más grande\n",
        "index = df_not_nan[\"Age\"].idxmax()\n",
        "\n",
        "# Utilizar .iloc[] para encontrar al atleta con base en el índice\n",
        "# print(df_not_nan.iloc[index]) --> Así falla\n",
        "# print(df_not_nan.loc[index, \"Age\"]) --> Así solo trae la edad, pero no todos los datos del registro\n",
        "\n",
        "print(df_not_nan.loc[index])"
      ],
      "metadata": {
        "colab": {
          "base_uri": "https://localhost:8080/"
        },
        "id": "Y1HRKdgeoiI8",
        "outputId": "884b6fe0-aeb6-4bff-a593-8780213af6e9"
      },
      "execution_count": 66,
      "outputs": [
        {
          "output_type": "stream",
          "name": "stdout",
          "text": [
            "ID                                                22984\n",
            "Name      John (Herbert Crawford-) Copley (Williamson-)\n",
            "Sex                                                   M\n",
            "Age                                                73.0\n",
            "Height                                              NaN\n",
            "Weight                                              NaN\n",
            "Team                                      Great Britain\n",
            "NOC                                                 GBR\n",
            "Games                                       1948 Summer\n",
            "Year                                               1948\n",
            "Season                                           Summer\n",
            "City                                             London\n",
            "Sport                                  Art Competitions\n",
            "Event     Art Competitions Mixed Painting, Graphic Arts\n",
            "Medal                                            Silver\n",
            "Name: 44584, dtype: object\n"
          ]
        }
      ]
    },
    {
      "cell_type": "code",
      "source": [
        "# Filtrar los datos para quedarse solo con aquellos registros que tienen medalla de oro\n",
        "df_oro = df[df[\"Medal\"] == \"Gold\"]\n",
        "\n",
        "# Usar .idxmin() para encontrar el índice del atleta con medalla de oro más joven\n",
        "index_2 = df_oro[\"Age\"].idxmin()\n",
        "\n",
        "# Usar .iloc[] para encontrar al atleta\n",
        "# print(df_oro.iloc[index_2]) --> Así falla ya que dice que la posición excede los límites (posiblemente se limita a 100 registros)\n",
        "print(df_oro.loc[index_2])"
      ],
      "metadata": {
        "colab": {
          "base_uri": "https://localhost:8080/"
        },
        "id": "01GmlBubt7r0",
        "outputId": "e53b0ff0-316e-4627-c830-d4460ca1d632"
      },
      "execution_count": 41,
      "outputs": [
        {
          "output_type": "stream",
          "name": "stdout",
          "text": [
            "ID                           14142\n",
            "Name                 Hans Bourquin\n",
            "Sex                              M\n",
            "Age                           13.0\n",
            "Height                         NaN\n",
            "Weight                         NaN\n",
            "Team                   Switzerland\n",
            "NOC                            SUI\n",
            "Games                  1928 Summer\n",
            "Year                          1928\n",
            "Season                      Summer\n",
            "City                     Amsterdam\n",
            "Sport                       Rowing\n",
            "Event     Rowing Men's Coxed Pairs\n",
            "Medal                         Gold\n",
            "Name: 27207, dtype: object\n"
          ]
        }
      ]
    },
    {
      "cell_type": "code",
      "source": [
        "# Filtrar el Dataframe inicial para dejar solo los registros de todas las ocasiones en que Michael Phelps ha participado\n",
        "Phelps = df[df[\"Name\"] == \"Michael Fred Phelps, II\"]\n",
        "\n",
        "\n",
        "# Crear el nuevo CSV usando la información encontrada con .to_csv() --> El archivo se genera en el reservorio de Colab y devuelve 30 registros\n",
        "Phelps.to_csv(\"/Phelps.csv\")\n"
      ],
      "metadata": {
        "id": "fsRLL0B1vHiv"
      },
      "execution_count": 58,
      "outputs": []
    },
    {
      "cell_type": "markdown",
      "source": [
        "# Sección nueva"
      ],
      "metadata": {
        "id": "Y2JwDp53793-"
      }
    },
    {
      "cell_type": "markdown",
      "metadata": {
        "id": "sQas21UgElXG"
      },
      "source": [
        "Parte 2 (No Guiada) SECCIÓN AVANZANDA\n",
        "\n",
        "Crear un programa que permita saber cuál es el competidor más veterano que ha recibido medalla para los NOC´s MEX, COL y ARG (oro, plata o bronce)\n",
        "\n",
        "Crear un programa que permita saber cuál es el competidor más joven que ha recibido medalla de oro para los NOC´s USA y CAN\n",
        "\n",
        "Encuentra al competidor más ganador de la historia en medallas totales, medallas de oro, medallas de plata y medallas de broce para los NOC´s USA, CHN y RUS. Crea un csv con toda su información."
      ]
    },
    {
      "cell_type": "code",
      "source": [
        "# Encontrar al competidor más veterano que ha recibido medalla para los NOC´s MEX, COL y ARG (oro, plata o bronce):\n",
        "import pandas as pd\n",
        "\n",
        "# Leer el archivo CSV\n",
        "df = pd.read_csv(\"/athlete_events.csv\")\n",
        "\n",
        "# Filtrar el dataframe por los NOC´s MEX, COL y ARG\n",
        "df = df[df[\"NOC\"].isin([\"MEX\", \"COL\", \"ARG\"])]\n",
        "\n",
        "# Filtrar el dataframe por los competidores que han ganado medallas\n",
        "df = df[df[\"Medal\"].notna()]\n",
        "\n",
        "# Obtener la edad del competidor más veterano\n",
        "oldest_athlete = df.loc[df[\"Age\"] == df[\"Age\"].max()]\n",
        "\n",
        "# Imprimir la información del competidor más veterano\n",
        "print(oldest_athlete)"
      ],
      "metadata": {
        "id": "PUXpcOjsuLOe",
        "colab": {
          "base_uri": "https://localhost:8080/"
        },
        "outputId": "0f093781-6c1a-4db6-f8f4-3efa414fffa1"
      },
      "execution_count": 75,
      "outputs": [
        {
          "output_type": "stream",
          "name": "stdout",
          "text": [
            "            ID                              Name Sex   Age  Height  Weight  \\\n",
            "219481  110254  Julio Christian Sieburger Hadler   M  56.0     NaN     NaN   \n",
            "\n",
            "         Team  NOC        Games  Year  Season    City    Sport  \\\n",
            "219481  Djinn  ARG  1948 Summer  1948  Summer  London  Sailing   \n",
            "\n",
            "                         Event   Medal  \n",
            "219481  Sailing Mixed 6 metres  Silver  \n"
          ]
        }
      ]
    },
    {
      "cell_type": "code",
      "source": [
        "# Crear un programa que permita saber cuál es el competidor más joven que ha recibido medalla de oro para los NOC´s USA y CAN:\n",
        "\n",
        "import pandas as pd\n",
        "\n",
        "# Leer el archivo CSV\n",
        "df = pd.read_csv(\"/athlete_events.csv\")\n",
        "\n",
        "# Filtrar el dataframe por los NOC´s USA y CAN\n",
        "df = df[df[\"NOC\"].isin([\"USA\", \"CAN\"])]\n",
        "\n",
        "# Filtrar el dataframe por los competidores que han ganado medallas de oro\n",
        "df = df[df[\"Medal\"] == \"Gold\"]\n",
        "\n",
        "# Obtener la edad del competidor más joven\n",
        "youngest_gold_medalist = df.loc[df[\"Age\"] == df[\"Age\"].min()]\n",
        "\n",
        "# Imprimir la información del competidor más joven\n",
        "print(youngest_gold_medalist)"
      ],
      "metadata": {
        "colab": {
          "base_uri": "https://localhost:8080/"
        },
        "id": "f6fSLRJM6HY-",
        "outputId": "6a64402d-3322-4aa8-89b4-8145da41a6af"
      },
      "execution_count": 76,
      "outputs": [
        {
          "output_type": "stream",
          "name": "stdout",
          "text": [
            "            ID                                Name Sex   Age  Height  Weight  \\\n",
            "52010    26731  Donna Elizabeth de Varona (-Pinto)   F  13.0   168.0    61.0   \n",
            "78544    39866        Marjorie Gestring (-Redlick)   F  13.0     NaN     NaN   \n",
            "200704  100797       Aileen Muriel Riggin (-Soule)   F  13.0   142.0     NaN   \n",
            "\n",
            "                 Team  NOC        Games  Year  Season       City     Sport  \\\n",
            "52010   United States  USA  1960 Summer  1960  Summer       Roma  Swimming   \n",
            "78544   United States  USA  1936 Summer  1936  Summer     Berlin    Diving   \n",
            "200704  United States  USA  1920 Summer  1920  Summer  Antwerpen    Diving   \n",
            "\n",
            "                                                  Event Medal  \n",
            "52010   Swimming Women's 4 x 100 metres Freestyle Relay  Gold  \n",
            "78544                        Diving Women's Springboard  Gold  \n",
            "200704                       Diving Women's Springboard  Gold  \n"
          ]
        }
      ]
    },
    {
      "cell_type": "code",
      "source": [
        "# Encuentra al competidor más ganador de la historia en medallas totales, medallas de oro, medallas de plata y medallas de broce para los NOC´s USA, CHN y RUS.\n",
        "# Crea un csv con toda su información.\n",
        "import pandas as pd\n",
        "\n",
        "# Leer el archivo CSV\n",
        "df = pd.read_csv(\"/athlete_events.csv\")\n",
        "\n",
        "# Filtrar el dataframe por los NOC´s USA, CHN y RUS\n",
        "df = df[df[\"NOC\"].isin([\"USA\", \"CHN\", \"RUS\"])]\n",
        "\n",
        "# Filtrar las filas con NA en la columna Medal\n",
        "df = df[df[\"Medal\"].notna()]\n",
        "\n",
        "# Obtener la cantidad total de medallas por competidor\n",
        "total_medals = df.groupby(\"Name\").Medal.count()\n",
        "\n",
        "# Obtener la cantidad de medallas de oro por competidor\n",
        "gold_medals = df[df[\"Medal\"] == \"Gold\"].groupby(\"Name\").Medal.count()\n",
        "\n",
        "# Obtener la cantidad de medallas de plata por competidor\n",
        "silver_medals = df[df[\"Medal\"] == \"Silver\"].groupby(\"Name\").Medal.count()\n",
        "\n",
        "# Obtener la cantidad de medallas de bronce por competidor\n",
        "bronze_medals = df[df[\"Medal\"] == \"Bronze\"].groupby(\"Name\").Medal.count()\n",
        "\n",
        "# Obtener el competidor más ganador de la historia en medallas totales\n",
        "most_medals_total = total_medals.idxmax()\n",
        "\n",
        "# Obtener el competidor más ganador de la historia en medallas de oro\n",
        "most_gold_medals = gold_medals.idxmax()\n",
        "\n",
        "# Obtener el competidor más ganador de la historia en medallas de plata\n",
        "most_silver_medals = silver_medals.idxmax()\n",
        "\n",
        "# Obtener el competidor más ganador de la historia en medallas de bronce\n",
        "most_bronze_medals = bronze_medals.idxmax()\n",
        "\n",
        "# Imprimir la información en pantalla\n",
        "print(\"Información del competidor más ganador en medallas totales:\")\n",
        "print(f\"Nombre del competidor: {most_medals_total}\")\n",
        "print(f\"Medallas totales: {total_medals.max()}\")\n",
        "\n",
        "print(\"\\nInformación del competidor más ganador en medallas de oro:\")\n",
        "print(f\"Nombre del competidor: {most_gold_medals}\")\n",
        "print(f\"Medallas de oro: {gold_medals.max()}\")\n",
        "\n",
        "print(\"\\nInformación del competidor más ganador en medallas de plata:\")\n",
        "print(f\"Nombre del competidor: {most_silver_medals}\")\n",
        "print(f\"Medallas de plata: {silver_medals.max()}\")\n",
        "\n",
        "print(\"\\nInformación del competidor más ganador en medallas de bronce:\")\n",
        "print(f\"Nombre del competidor: {most_bronze_medals}\")\n",
        "print(f\"Medallas de bronce: {bronze_medals.max()}\")\n",
        "\n",
        "# Crear un nuevo DataFrame con la información obtenida\n",
        "data = {\n",
        "    \"Competidor más ganador (Total)\": [most_medals_total],\n",
        "    \"Medallas Totales\": [total_medals.max()],\n",
        "    \"Competidor más ganador (Oro)\": [most_gold_medals],\n",
        "    \"Medallas de Oro\": [gold_medals.max()],\n",
        "    \"Competidor más ganador (Plata)\": [most_silver_medals],\n",
        "    \"Medallas de Plata\": [silver_medals.max()],\n",
        "    \"Competidor más ganador (Bronce)\": [most_bronze_medals],\n",
        "    \"Medallas de Bronce\": [bronze_medals.max()]\n",
        "}\n",
        "\n",
        "df_resultado = pd.DataFrame(data)\n",
        "\n",
        "# Guardar el DataFrame en un archivo CSV\n",
        "df_resultado.to_csv(\"/competidores_ganadores.csv\", index=False)\n",
        "\n",
        "print(\"\\nArchivo CSV 'competidores_ganadores.csv' creado correctamente.\")"
      ],
      "metadata": {
        "colab": {
          "base_uri": "https://localhost:8080/"
        },
        "id": "yX8emWebI318",
        "outputId": "077e04c9-68e2-483d-bdb6-1da16200cd05"
      },
      "execution_count": 105,
      "outputs": [
        {
          "output_type": "stream",
          "name": "stdout",
          "text": [
            "Información del competidor más ganador en medallas totales:\n",
            "Nombre del competidor: Michael Fred Phelps, II\n",
            "Medallas totales: 28\n",
            "\n",
            "Información del competidor más ganador en medallas de oro:\n",
            "Nombre del competidor: Michael Fred Phelps, II\n",
            "Medallas de oro: 23\n",
            "\n",
            "Información del competidor más ganador en medallas de plata:\n",
            "Nombre del competidor: Shirley Frances Babashoff\n",
            "Medallas de plata: 6\n",
            "\n",
            "Información del competidor más ganador en medallas de bronce:\n",
            "Nombre del competidor: Aleksey Yuryevich Nemov\n",
            "Medallas de bronce: 6\n",
            "\n",
            "Archivo CSV 'competidores_ganadores.csv' creado correctamente.\n"
          ]
        }
      ]
    }
  ],
  "metadata": {
    "colab": {
      "provenance": [],
      "mount_file_id": "1I1rCcCWUdH5UvoKfM4zbcGwWFWsf_j2n",
      "authorship_tag": "ABX9TyNQXzozWnEzOZjfGAk/Nzkk",
      "include_colab_link": true
    },
    "kernelspec": {
      "display_name": "Python 3",
      "name": "python3"
    },
    "language_info": {
      "name": "python"
    }
  },
  "nbformat": 4,
  "nbformat_minor": 0
}