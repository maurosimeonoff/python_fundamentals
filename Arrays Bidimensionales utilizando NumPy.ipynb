{
  "cells": [
    {
      "cell_type": "code",
      "source": [
        "# Importar la librería\r\n",
        "import numpy as np\r\n",
        "# Crea una matriz bidimensional (array) llamada ventas_mensuales con una dimensión de 12 filas (representando los meses del año) y 4 columnas (representando los productos vendidos). Los valores de la matriz representarán las ventas mensuales de cada producto.\r\n",
        "ventas_mensuales = np.array([     [1200, 1500, 800, 2500],     [1800, 1600, 900, 2800],     [1500, 1400, 950, 2600],     [1300, 1700, 850, 2700],     [2000, 1800, 950, 2900],     [1700, 1600, 900, 2700],     [1400, 1300, 850, 2500],     [1600, 1400, 1000, 2600],     [1800, 1700, 950, 2900],     [1900, 1500, 850, 2800],     [1700, 1600, 900, 2600],     [2100, 1800, 1000, 3000] ])\r\n",
        "# Imprime la matriz ventas_mensuales para verificar su contenido\r\n",
        "print(ventas_mensuales)\r\n",
        "# Calcula el total de ventas por producto sumando los valores de cada columna utilizando la función sum de NumPy.\r\n",
        "total_ventas_productos = np.sum(ventas_mensuales, axis=0)\r\n",
        "# Imprime el total de ventas por producto\r\n",
        "print(total_ventas_productos)\r\n"
      ],
      "outputs": [
        {
          "output_type": "display_data",
          "data": {
            "application/vnd.livy.statement-meta+json": {
              "spark_pool": "SPK02",
              "session_id": "0",
              "statement_id": 5,
              "state": "finished",
              "livy_statement_state": "available",
              "queued_time": "2023-07-13T17:55:49.5206257Z",
              "session_start_time": null,
              "execution_start_time": "2023-07-13T17:55:49.6798405Z",
              "execution_finish_time": "2023-07-13T17:55:49.8476813Z",
              "spark_jobs": null,
              "parent_msg_id": "a1a96a1b-3dca-456c-bc9c-d24f43eace35"
            },
            "text/plain": "StatementMeta(SPK02, 0, 5, Finished, Available)"
          },
          "metadata": {}
        },
        {
          "output_type": "stream",
          "name": "stdout",
          "text": [
            "[[1200 1500  800 2500]\n [1800 1600  900 2800]\n [1500 1400  950 2600]\n [1300 1700  850 2700]\n [2000 1800  950 2900]\n [1700 1600  900 2700]\n [1400 1300  850 2500]\n [1600 1400 1000 2600]\n [1800 1700  950 2900]\n [1900 1500  850 2800]\n [1700 1600  900 2600]\n [2100 1800 1000 3000]]\n[20000 18900 10900 32600]\n"
          ]
        }
      ],
      "execution_count": 4,
      "metadata": {}
    },
    {
      "cell_type": "code",
      "source": [
        "# Importar NumPy\r\n",
        "import numpy as np\r\n",
        "\r\n",
        "# Creación de una matriz bidimensional (array) llamada \"matriz_3x3\" con una dimensión de 3 filas y 3 columnas.\r\n",
        "# Los valores de la matriz deben ir de 0 a 8. Utilizar la función \"arange\" de NumPy para generar los valores de forma consecutiva.\r\n",
        "# Crear una matriz bidimensional 3x3\r\n",
        "matriz_3x3 = np.arange(9).reshape(3, 3)\r\n",
        "\r\n",
        "# Imprimir la matriz \"matriz_3x3\" para verificar su contenido.\r\n",
        "print(matriz_3x3)"
      ],
      "outputs": [
        {
          "output_type": "display_data",
          "data": {
            "application/vnd.livy.statement-meta+json": {
              "spark_pool": "SPK02",
              "session_id": "1",
              "statement_id": 2,
              "state": "finished",
              "livy_statement_state": "available",
              "queued_time": "2023-07-13T21:50:48.7174848Z",
              "session_start_time": "2023-07-13T21:50:48.8010832Z",
              "execution_start_time": "2023-07-13T21:54:31.9891417Z",
              "execution_finish_time": "2023-07-13T21:54:32.1596631Z",
              "spark_jobs": null,
              "parent_msg_id": "fe38d71d-6f3f-429c-b89f-ffcca24d3992"
            },
            "text/plain": "StatementMeta(SPK02, 1, 2, Finished, Available)"
          },
          "metadata": {}
        },
        {
          "output_type": "stream",
          "name": "stdout",
          "text": [
            "[[0 1 2]\n [3 4 5]\n [6 7 8]]\n"
          ]
        }
      ],
      "execution_count": 5,
      "metadata": {
        "jupyter": {
          "source_hidden": false,
          "outputs_hidden": false
        },
        "nteract": {
          "transient": {
            "deleting": false
          }
        }
      }
    },
    {
      "cell_type": "code",
      "source": [
        "# Creación de una matriz identidad de 6x6 llamada \"matriz_identidad\" utilizando la función \"identity\".\r\n",
        "# Esta función creará una matriz cuadrada con unos en la diagonal principal y ceros en el resto de los elementos.\r\n",
        "# Crear una matriz identidad de 6x6\r\n",
        "matriz_identidad = np.identity(6)\r\n",
        "\r\n",
        "# Imprimir la matriz \"matriz_identidad\" para verificar su contenido.\r\n",
        "print(matriz_identidad)"
      ],
      "outputs": [
        {
          "output_type": "display_data",
          "data": {
            "application/vnd.livy.statement-meta+json": {
              "spark_pool": "SPK02",
              "session_id": "1",
              "statement_id": 3,
              "state": "finished",
              "livy_statement_state": "available",
              "queued_time": "2023-07-13T21:52:00.0836484Z",
              "session_start_time": null,
              "execution_start_time": "2023-07-13T21:54:32.3573951Z",
              "execution_finish_time": "2023-07-13T21:54:32.5185951Z",
              "spark_jobs": null,
              "parent_msg_id": "2e40a47d-8ed2-42a9-aff6-ff77b1ae9bd1"
            },
            "text/plain": "StatementMeta(SPK02, 1, 3, Finished, Available)"
          },
          "metadata": {}
        },
        {
          "output_type": "stream",
          "name": "stdout",
          "text": [
            "[[1. 0. 0. 0. 0. 0.]\n [0. 1. 0. 0. 0. 0.]\n [0. 0. 1. 0. 0. 0.]\n [0. 0. 0. 1. 0. 0.]\n [0. 0. 0. 0. 1. 0.]\n [0. 0. 0. 0. 0. 1.]]\n"
          ]
        }
      ],
      "execution_count": 6,
      "metadata": {
        "jupyter": {
          "source_hidden": false,
          "outputs_hidden": false
        },
        "nteract": {
          "transient": {
            "deleting": false
          }
        }
      }
    }
  ],
  "metadata": {
    "language_info": {
      "name": "python"
    },
    "kernelspec": {
      "name": "synapse_pyspark",
      "language": "Python",
      "display_name": "Synapse PySpark"
    },
    "kernel_info": {
      "name": "synapse_pyspark"
    },
    "save_output": true,
    "synapse_widget": {
      "version": "0.1",
      "state": {}
    }
  },
  "nbformat": 4,
  "nbformat_minor": 2
}