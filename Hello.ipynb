{
  "cells": [
    {
      "cell_type": "code",
      "source": [
        "print(\"Mi nombre es Mauro Simeonoff.\")\n",
        "print(\"Frase: El interés compuesto es la fuerza más poderosa del universo.\")"
      ],
      "outputs": [
        {
          "output_type": "stream",
          "name": "stdout",
          "text": [
            "Mi nombre es Mauro Simeonoff.\n",
            "Frase: El interés compuesto es la fuerza más poderosa del universo.\n"
          ]
        }
      ],
      "execution_count": 1,
      "metadata": {
        "id": "i7YbBtqDPjID",
        "outputId": "b6ef29d8-dbd8-45d2-eec0-19c151bac077",
        "colab": {
          "base_uri": "https://localhost:8080/"
        }
      }
    },
    {
      "cell_type": "code",
      "source": [
        "x = 10\n",
        "print (x*2)"
      ],
      "metadata": {
        "id": "MVfzMu9fPsFp",
        "outputId": "6670bb81-1131-4222-f531-f20099c100ab",
        "colab": {
          "base_uri": "https://localhost:8080/"
        }
      },
      "execution_count": 2,
      "outputs": [
        {
          "output_type": "stream",
          "name": "stdout",
          "text": [
            "20\n"
          ]
        }
      ]
    }
  ],
  "metadata": {
    "language_info": {
      "name": "python"
    },
    "kernelspec": {
      "name": "synapse_pyspark",
      "language": "Python",
      "display_name": "Synapse PySpark"
    },
    "kernel_info": {
      "name": "synapse_pyspark"
    },
    "save_output": true,
    "synapse_widget": {
      "version": "0.1",
      "state": {}
    },
    "colab": {
      "provenance": []
    }
  },
  "nbformat": 4,
  "nbformat_minor": 0
}